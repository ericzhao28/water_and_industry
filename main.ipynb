{
 "cells": [
  {
   "cell_type": "markdown",
   "metadata": {
    "colab_type": "text",
    "id": "MXzBoureDiCc"
   },
   "source": [
    "# Industrial contamination in the United States.\n",
    "Exploration of the correlation between water contaminantion and industrial activity across US counties.\n",
    "\n",
    "Author: Eric Zhao (2018).\n",
    "\n",
    "### Motivations\n",
    "Our goal is to better understand how chemical contaminant levels in water systems reflect industrial development and activity. Better understanding of such correlations empowers better informed policy making and a more complete understanding of the ramifications of economic development.\n",
    "\n",
    "> While the populations with the least access to good water sources are largely clustered in \n",
    "> developing countries, recent events such as the Flint water crisis in Michigan and the \n",
    "> California drought remind us that even in economically advanced countries such as the \n",
    "> United States, careless public planning and negligent environmental regulations can still \n",
    "> threaten the public’s access to clean and safe public water supplies.\n",
    "\n",
    "> Industrial and technological revolutions which have resulted in advanced manufacturing \n",
    "> processes, have slowly resulted in water pollution of nearby areas from the contaminants \n",
    "> and by-products released into the natural water sources. As we proceed with the \n",
    "> development of novel technologies, it is imperative that we continue to improve the quality \n",
    "> of life and access to safe drinking water.\n",
    "\n",
    "> \\- CorrelationOne\n",
    "\n"
   ]
  },
  {
   "cell_type": "markdown",
   "metadata": {
    "colab_type": "text",
    "id": "RtKh2foEak5J"
   },
   "source": [
    "# Getting started..."
   ]
  },
  {
   "cell_type": "code",
   "execution_count": 0,
   "metadata": {
    "colab": {},
    "colab_type": "code",
    "id": "gjQPGf__ZorJ"
   },
   "outputs": [],
   "source": [
    "import copy\n",
    "import numpy as np\n",
    "import pandas as pd\n",
    "import matplotlib.pyplot as plt\n",
    "\n",
    "\n",
    "from sklearn import linear_model\n",
    "from sklearn.decomposition import PCA\n",
    "from sklearn import manifold\n",
    "from sklearn.cluster import KMeans\n",
    "from sklearn.preprocessing import StandardScaler"
   ]
  },
  {
   "cell_type": "markdown",
   "metadata": {
    "colab_type": "text",
    "id": "Y6TkwuNLZitF"
   },
   "source": [
    "\n",
    "### Datasets\n",
    "**Chemicals**: Data containing the measured mean concentration of a particular chemical or substance in community water systems throughout the counties in the United States from 2000 – 2016. ~882,000 rows & 12 columns. Size: ~100MB. Source: [Centers for Disease Control and Prevention](https://ephtracking.cdc.gov/).\n",
    "\n",
    "**Droughts**: Data containing the particular percentage of various range of drought severities, indexed by counties for particular start-end periods throughout the United States. ~1.35 million rows & 11 columns. Size: ~100MB. Source: [U.S. Drought Monitor](https://droughtmonitor.unl.edu/Data/DataDownload/ComprehensiveStatistics.aspx).\n",
    "\n",
    "**Earnings**: Information about the industry specific median earnings (in that specific year’s USD, inflation adjusted) indexed by counties for all of the United States, taken from 2010 – 2016.  21,999 rows & 31 columns. Size: ~5MB. Source: [U.S. Census](https://factfinder.census.gov/faces/nav/jsf/pages/index.xhtml).\n",
    "\n",
    "**Educational attainment**: Data containing the educational attainment of the US population by county from 1970 – 2000 and estimates of 2012 – 2016.  16,416 rows & 12 columns. Size: ~2MB. Source: [U.S. Department of Agriculture](https://www.ers.usda.gov/data-products/county-level-data-sets/download-data/).\n",
    "\n",
    "**Industry occupation**: Data containing the estimated working population (16 years and over) for the various industries indexed by counties, taken from 2010 – 2016.  5,712 rows & 18 columns. Size: ~0.7MB. Source: [U.S. Census](https://factfinder.census.gov/faces/nav/jsf/pages/index.xhtml).\n",
    "\n",
    "**Water usage**: Information about particular water usage (irrigation, public supply, crop, etc.) and thermoelectric power generated for counties that were found for the year 2010. 3,225 rows & 117 columns. Size: ~2MB. Source: [U.S. Department of the Interior](https://water.usgs.gov/watuse/data/2010/index.html)."
   ]
  },
  {
   "cell_type": "code",
   "execution_count": 0,
   "metadata": {
    "colab": {},
    "colab_type": "code",
    "id": "oRVZ9CpZ-D4y"
   },
   "outputs": [],
   "source": [
    "raw_water_df = pd.read_csv(\"water_usage.csv\")\n",
    "raw_water_dict_df = pd.read_csv(\"water_usage_dictionary.csv\")\n",
    "raw_industry_df = pd.read_csv(\"industry_occupation.csv\", encoding = \"latin1\")\n",
    "raw_education_df = pd.read_csv(\"education_attainment.csv\", encoding = \"latin1\")\n",
    "raw_earnings_df = pd.read_csv(\"earnings.csv\", encoding = \"latin1\")\n",
    "raw_chemicals_df = pd.read_csv(\"chemicals.csv\", encoding = \"latin1\")\n",
    "raw_droughts_df = pd.read_csv(\"droughts.csv\", encoding = \"latin1\")"
   ]
  },
  {
   "cell_type": "markdown",
   "metadata": {
    "colab_type": "text",
    "id": "rBk2pJMhacrf"
   },
   "source": [
    "# Modeling industrial activity...\n",
    "To comprehensively correlate contamination patterns from 2010 to 2016 with industrial activity, we have to build a reliable model of industrial activity for each year. Our water usage dataset provides a direct window into the water consumption of different industries. However, the dataset is only available for 2010. We must therefore supplement our model of industrial activity with data on industry occupation figures, available each year from 2010 to 2016. Although occupation does not directly imply industrial activity as strongly as water usage, it provides information on industrial development that can be leveraged by our later models to compensate for our static water usage assumptions."
   ]
  },
  {
   "cell_type": "markdown",
   "metadata": {
    "colab_type": "text",
    "id": "GKnMr7zruQP-"
   },
   "source": [
    "### Water Usage Data\n",
    "Before we can use the water usage data, we need to remove a few sources of bias/noise from the dataset. The most obvious source of noise are drought patterns. As we anticipate water usage will vary based on a county's drought status, we must normalize for each county's drought status in 2010. We also anticipate overall population to affect water usage.\n",
    "\n",
    "We first clean up our drought dataframe."
   ]
  },
  {
   "cell_type": "code",
   "execution_count": 0,
   "metadata": {
    "colab": {},
    "colab_type": "code",
    "id": "NGKvozK5gOqP"
   },
   "outputs": [],
   "source": [
    "droughts_df = raw_droughts_df.copy()\n",
    "\n",
    "# Parse the start and end dates.\n",
    "droughts_df['valid_start'] = pd.to_datetime(droughts_df['valid_start'])\n",
    "droughts_df['valid_end'] = pd.to_datetime(droughts_df['valid_end'])\n",
    "droughts_df = droughts_df[droughts_df['valid_end'].dt.year >= 2010]\n",
    "droughts_df = droughts_df[droughts_df['valid_start'].dt.year <= 2010]\n",
    "\n",
    "# Remove non feature cols.\n",
    "droughts_feature_cols = [\"none\", \"d0\", \"d1\", \"d2\", \"d3\", \"d4\"]\n",
    "droughts_df = droughts_df[[\"fips\", *droughts_feature_cols]]\n",
    "\n",
    "# Scale the drought data\n",
    "droughts_scaler = StandardScaler(with_mean=True, with_std=True)\n",
    "droughts_scaler.fit(droughts_df.drop(columns=[\"fips\"]))\n",
    "droughts_df[droughts_feature_cols] = pd.DataFrame(\n",
    "    droughts_scaler.transform(droughts_df.drop(columns=[\"fips\"])),\n",
    "                              columns=droughts_feature_cols)"
   ]
  },
  {
   "cell_type": "code",
   "execution_count": 0,
   "metadata": {
    "colab": {},
    "colab_type": "code",
    "id": "xUHs3eys656c"
   },
   "outputs": [],
   "source": [
    "water_df = raw_water_df.copy()\n",
    "water_df = water_df.drop(columns=['state','state_fips','county','county_fips','year','population']).fillna(0)\n",
    "water_feature_cols = [x for x in water_df.head(0) if x != \"fips\"]\n",
    "\n",
    "water_scaler = StandardScaler(with_mean=True, with_std=True)\n",
    "water_scaler.fit(water_df.drop(columns=[\"fips\"]))\n",
    "water_df[water_feature_cols] = pd.DataFrame(\n",
    "    water_scaler.transform(water_df.drop(columns=[\"fips\"])),\n",
    "                              columns=water_feature_cols)"
   ]
  },
  {
   "cell_type": "markdown",
   "metadata": {
    "colab_type": "text",
    "id": "vGs83_ZrgNS6"
   },
   "source": [
    "\n",
    "As a normalization technique, we train a ridge regression model from drought status and population to the water usage statistics. We then subtract the predicted water usage statistics from the true water usage statistics. If we removed the population features and switched to linear regression, this would be mathematically equivalent to removing the mean water usage for the specific drought status of a county."
   ]
  },
  {
   "cell_type": "code",
   "execution_count": 0,
   "metadata": {
    "colab": {},
    "colab_type": "code",
    "id": "Cceuqwh8BWGl"
   },
   "outputs": [],
   "source": [
    "def normalize_drought_pop(droughts_df, df):\n",
    "  all_df = df.merge(droughts_df, on=\"fips\").fillna(0)\n",
    "\n",
    "  labels_df = all_df[water_feature_cols]\n",
    "  features_df = all_df.drop(columns=[\"fips\", *water_feature_cols])\n",
    "\n",
    "  normalizer = linear_model.Ridge(alpha=0.5)\n",
    "  normalizer.fit(features_df.values, labels_df.values)\n",
    "\n",
    "  labels = np.subtract(labels_df.values, normalizer.predict(features_df.values))\n",
    "  labels_df = pd.DataFrame(labels, columns=list(labels_df.head(0)))\n",
    "  labels_df = labels_df.merge(all_df[[\"fips\"]], left_index=True, right_index=True)\n",
    "\n",
    "  return normalizer, labels_df"
   ]
  },
  {
   "cell_type": "code",
   "execution_count": 0,
   "metadata": {
    "colab": {},
    "colab_type": "code",
    "id": "7Mzg1Mc9peJh"
   },
   "outputs": [],
   "source": [
    "water_normalizer, water_df = normalize_drought_pop(droughts_df, water_df)"
   ]
  },
  {
   "cell_type": "markdown",
   "metadata": {
    "colab_type": "text",
    "id": "qQnc_-HQkCZX"
   },
   "source": [
    "### Industrial Occupation Data\n",
    "With the water usage data cleaned, we need to process the industrial occupation data. This occupation data will supplement our water usage data, and provide information on industrial development beyond 2010 (which the water usage data otherwise limits our understanding to).\n",
    "\n",
    "A major challenge with industrial occupation data is extraneous information content. While the socioeconomic trends correlated with industrial occupation may improve contaminant modeling accuracy (ex higher median income means more tax revenue which means fewer contaminants), our goal is to isolate each county's industrial activity and development.\n",
    "\n",
    "First, we need to preprocess the earnings data."
   ]
  },
  {
   "cell_type": "code",
   "execution_count": 0,
   "metadata": {
    "colab": {},
    "colab_type": "code",
    "id": "MgGP0yOKuktF"
   },
   "outputs": [],
   "source": [
    "earnings_df = raw_earnings_df.copy()\n",
    "earnings_df = earnings_df.drop(columns=[\"geo_id\", \"county\"])\n",
    "\n",
    "remove_signs = lambda x: int(str(x).strip()[:-1].replace(\",\", \"\")) if str(x).strip()[-1] in (\"+\", \"-\") else x\n",
    "earnings_df = earnings_df.applymap(remove_signs).fillna(0)\n",
    "\n",
    "earnings_feature_cols = [x for x in earnings_df.head(0) if x not in (\"fips\", \"year\")]\n",
    "\n",
    "earnings_scaler = StandardScaler(with_mean=True, with_std=True)\n",
    "earnings_scaler.fit(earnings_df.drop(columns=[\"fips\", \"year\"]))\n",
    "earnings_df[earnings_feature_cols] = pd.DataFrame(\n",
    "    earnings_scaler.transform(earnings_df.drop(columns=[\"fips\", \"year\"])),\n",
    "                              columns=earnings_feature_cols)"
   ]
  },
  {
   "cell_type": "code",
   "execution_count": 0,
   "metadata": {
    "colab": {},
    "colab_type": "code",
    "id": "C6OqCvg97gih"
   },
   "outputs": [],
   "source": [
    "industry_df = raw_industry_df.copy()\n",
    "industry_df = industry_df.drop(columns=[\"geo_id\", \"county\"]).fillna(0)\n",
    "\n",
    "industry_feature_cols = [x for x in industry_df.head(0) if x not in [\"fips\", \"year\"]]\n",
    "\n",
    "industry_scaler = StandardScaler(with_mean=True, with_std=True)\n",
    "industry_scaler.fit(industry_df.drop(columns=[\"fips\", \"year\"]))\n",
    "industry_df[industry_feature_cols] = pd.DataFrame(\n",
    "    industry_scaler.transform(industry_df.drop(columns=[\"fips\", \"year\"])),\n",
    "                              columns=industry_feature_cols)"
   ]
  },
  {
   "cell_type": "markdown",
   "metadata": {
    "colab_type": "text",
    "id": "F142MXmmujE1"
   },
   "source": [
    "To remove socioeconomic patterns from the industrial occupation data, we perform principal component analysis on a combination of the occupation and earnings dataframes. We then identify eigenvectors (components) that strongly correlate to earnings patterns and remove the corresponding eigenvector and singular value from our basis. We then recompute the full matrix and use the new industrial occupation data."
   ]
  },
  {
   "cell_type": "code",
   "execution_count": 0,
   "metadata": {
    "colab": {},
    "colab_type": "code",
    "id": "Ig-s9_Bdg23k"
   },
   "outputs": [],
   "source": [
    "def normalize_earnings(earnings_df, df):\n",
    "  all_df = df.merge(earnings_df, on=[\"fips\", \"year\"]).fillna(0)\n",
    "  feature_cols = list(all_df.drop(columns=[\"fips\", \"year\"]).head(0))\n",
    "\n",
    "  pca = PCA()\n",
    "  pca.fit(all_df.drop(columns=[\"fips\", \"year\"]).values)\n",
    "\n",
    "  singular = pca.singular_values_\n",
    "  components = pca.components_\n",
    "  np.delete(singular, 3)\n",
    "  np.delete(components, 3)\n",
    "\n",
    "  inference = np.matmul(all_df.drop(columns=[\"fips\", \"year\"]), singular * components)\n",
    "  print(inference)\n",
    "  all_df[feature_cols] = pd.DataFrame(inference, columns=feature_cols)\n",
    "  return all_df[industry_feature_cols]"
   ]
  },
  {
   "cell_type": "code",
   "execution_count": 0,
   "metadata": {
    "colab": {},
    "colab_type": "code",
    "id": "P-GDgy6xt6yl"
   },
   "outputs": [],
   "source": [
    "industry_df = normalize_earnings(earnings_df, industry_df)"
   ]
  },
  {
   "cell_type": "markdown",
   "metadata": {
    "colab_type": "text",
    "id": "lRXvB2m259EC"
   },
   "source": [
    "Now we just concatenate the vectors!"
   ]
  },
  {
   "cell_type": "code",
   "execution_count": 0,
   "metadata": {
    "colab": {},
    "colab_type": "code",
    "id": "JN5Eafns5_wT"
   },
   "outputs": [],
   "source": [
    "industrial_profile_df = water_df.merge(industry_df, how=\"outer\", on=\"fips\")"
   ]
  },
  {
   "cell_type": "markdown",
   "metadata": {
    "colab_type": "text",
    "id": "293ul4UP8TmT"
   },
   "source": [
    "## Modeling contaminent levels\n",
    "\n",
    "To begin correlating the contaminant levels with industrial activity, we need to first preprocess our contaminant data."
   ]
  },
  {
   "cell_type": "code",
   "execution_count": 0,
   "metadata": {
    "colab": {},
    "colab_type": "code",
    "id": "jw4qqCQTws91"
   },
   "outputs": [],
   "source": [
    "\"\"\" Generate the contamination dataset \"\"\"\n",
    "\n",
    "chemicals_df = raw_chemicals_df.copy()\n",
    "\n",
    "chemicals_dict = {}\n",
    "for _, row in chemicals_df.iterrows():\n",
    "  if (row[\"fips\"], row[\"year\"]) not in chemicals_dict:\n",
    "    chemicals_dict[(row[\"fips\"], row[\"year\"])] = {}\n",
    "  chemicals_dict[(row[\"fips\"], row[\"year\"])][(row[\"chemical_species\"] + \"(\" + row[\"unit_measurement\"] + \")\")] = row[\"value\"]\n",
    "chemicals_list = []\n",
    "for (fips, year), v in chemicals_dict.items():\n",
    "  chemicals_list.append({\"fips\": fips, \"year\": year, **{k: v for k, v in v.items()}})\n",
    "\n",
    "chemicals_df = pd.DataFrame(chemicals_list).fillna(0)\n",
    "chemicals_feature_cols = [x for x in chemicals_df.head(0) if x not in [\"fips\", \"year\"]]\n",
    "\n",
    "chemical_scaler = StandardScaler(with_mean=True, with_std=True)\n",
    "chemical_scaler.fit(chemicals_df.drop(columns=[\"fips\", \"year\"]))\n",
    "chemicals_df[chemicals_feature_cols] = pd.DataFrame(\n",
    "    chemical_scaler.transform(chemicals_df.drop(columns=[\"fips\", \"year\"])),\n",
    "                              columns=chemicals_feature_cols)\n",
    "\n",
    "reverse_contaminant_normalization = lambda x: x * scaler.var_ + scaler.mean_"
   ]
  },
  {
   "cell_type": "markdown",
   "metadata": {
    "colab_type": "text",
    "id": "8y1_h5UFBN68"
   },
   "source": [
    "Now we have to overlap our chemicals and industrial profile data..."
   ]
  },
  {
   "cell_type": "code",
   "execution_count": 0,
   "metadata": {
    "colab": {},
    "colab_type": "code",
    "id": "svebLbH2BNVe"
   },
   "outputs": [],
   "source": [
    "all_df = chemicals_df.merge(industrial_profile_df, on=[\"fips\", \"year\"])\n",
    "chemicals_corr_df = all_df[list(chemicals_df.head(0))]\n",
    "industrial_profile_corr_df = all_df[list(industrial_profile_df.head(0))]"
   ]
  },
  {
   "cell_type": "markdown",
   "metadata": {
    "colab_type": "text",
    "id": "ServeQzgAopA"
   },
   "source": [
    "## Clustering chemicals based on correlation to industrial activity\n",
    "We first build a regression model to measure what an increase/decrease in contaminants say about industrial activity. We then cluster chemicals based on how they relate to industrial profiles based on the similarity of regression coefficients."
   ]
  },
  {
   "cell_type": "code",
   "execution_count": 0,
   "metadata": {
    "colab": {},
    "colab_type": "code",
    "id": "4C3nGVhIrudW"
   },
   "outputs": [],
   "source": [
    "\"\"\"\n",
    "Given a dataset of feature vectors chemical contaminant levels, try to predict\n",
    "the vector representing the industrial activity for a given county at a given\n",
    "year. Cluster the chemicals based on the similarity of their correlations to\n",
    "the industrial activity.\n",
    "\"\"\"\n",
    "\n",
    "\n",
    "chem_to_county = linear_model.LinearRegression()\n",
    "chem_to_county.fit(chemicals_corr_df.drop(columns=[\"fips\", \"year\"]).values, industrial_profile_corr_df.drop(columns=[\"fips\", \"year\"]).values)\n",
    "coefs = chem_to_county.coef_\n",
    "\n",
    "kmeans = KMeans(n_clusters=3, random_state=0).fit(coefs)\n",
    "coords = manifold.TSNE().fit_transform(coefs)\n",
    "\n",
    "cluster_data = []\n",
    "for i, chem_name in enumerate(chemicals_feature_cols):\n",
    "  cluster_data.append({\"chemical\": chem_name, \"assignment\": kmeans.labels_[i],\n",
    "                       \"x\": coords[i][0], \"y\": coords[i][1]})\n",
    "cluster_df = pd.DataFrame(cluster_data)"
   ]
  },
  {
   "cell_type": "markdown",
   "metadata": {
    "colab_type": "text",
    "id": "kjVIG6x1D6PX"
   },
   "source": [
    "We visualize the clusters in the cluster graph below."
   ]
  },
  {
   "cell_type": "code",
   "execution_count": 209,
   "metadata": {
    "colab": {
     "base_uri": "https://localhost:8080/",
     "height": 365
    },
    "colab_type": "code",
    "id": "37JxXrP8AdZM",
    "outputId": "8fa98e47-c472-4c4a-a896-29c4602eea27"
   },
   "outputs": [
    {
     "data": {
      "text/plain": [
       "<matplotlib.collections.PathCollection at 0x7f610e49fdd8>"
      ]
     },
     "execution_count": 209,
     "metadata": {
      "tags": []
     },
     "output_type": "execute_result"
    },
    {
     "data": {
      "image/png": "[encoded data removed]",
      "text/plain": [
       "<matplotlib.figure.Figure at 0x7f610de80e80>"
      ]
     },
     "metadata": {
      "tags": []
     },
     "output_type": "display_data"
    }
   ],
   "source": [
    "color_map = [\"b\", \"r\", \"g\"]\n",
    "plt.scatter(cluster_df[\"x\"], cluster_df[\"y\"], c=[color_map[x] for x in cluster_df[\"assignment\"].tolist()])"
   ]
  },
  {
   "cell_type": "markdown",
   "metadata": {
    "colab_type": "text",
    "id": "OetVmiM0D9ta"
   },
   "source": [
    "## Associating contamination estimations with industrial profiles\n",
    "We then build a regression model from contaminants to changes in industrial activity (instead of the value at a given year). We perturb the regression inputs to view how economic development reflects in typical contamination levels for such economies."
   ]
  },
  {
   "cell_type": "code",
   "execution_count": 0,
   "metadata": {
    "colab": {},
    "colab_type": "code",
    "id": "UsbDV5kgEpDe"
   },
   "outputs": [],
   "source": [
    "PERTURB_COLS = [\"pub_sup_10\"]\n",
    "DELTA = 0.5"
   ]
  },
  {
   "cell_type": "code",
   "execution_count": 211,
   "metadata": {
    "colab": {
     "base_uri": "https://localhost:8080/",
     "height": 238
    },
    "colab_type": "code",
    "id": "jg7OOIp3qUBd",
    "outputId": "a0f52b5e-ff90-4ed8-f5c2-a90aebf34041"
   },
   "outputs": [
    {
     "data": {
      "text/plain": [
       "array([[ 5.29759519e-05,  7.25715443e-03, -1.08969950e-02,\n",
       "        -6.18232296e-02,  1.23471812e-02, -1.59188326e-03],\n",
       "       [ 5.29759519e-05,  7.25715443e-03, -1.08969950e-02,\n",
       "        -6.18232296e-02,  1.23471812e-02, -1.59188326e-03],\n",
       "       [ 5.29759519e-05,  7.25715443e-03, -1.08969950e-02,\n",
       "        -6.18232296e-02,  1.23471812e-02, -1.59188326e-03],\n",
       "       ...,\n",
       "       [ 5.29759519e-05,  7.25715443e-03, -1.08969950e-02,\n",
       "        -6.18232296e-02,  1.23471812e-02, -1.59188326e-03],\n",
       "       [ 5.29759519e-05,  7.25715443e-03, -1.08969950e-02,\n",
       "        -6.18232296e-02,  1.23471812e-02, -1.59188326e-03],\n",
       "       [ 5.29759519e-05,  7.25715443e-03, -1.08969950e-02,\n",
       "        -6.18232296e-02,  1.23471812e-02, -1.59188326e-03]])"
      ]
     },
     "execution_count": 211,
     "metadata": {
      "tags": []
     },
     "output_type": "execute_result"
    }
   ],
   "source": [
    "\"\"\"\n",
    "Given a dataset of feature vectors representing the industrial activity\n",
    "for a given county at a given year, try to predict the chmemical contaminant\n",
    "level. What happens to contaminant levels when we perturb the county vectors?\n",
    "\"\"\"\n",
    "\n",
    "industrial_profile_corr_df = industrial_profile_corr_df.copy()\n",
    "\n",
    "county_to_chem = linear_model.Ridge(alpha = .5)\n",
    "county_to_chem.fit(industrial_profile_corr_df.drop(columns=[\"fips\", \"year\"]).values, chemicals_corr_df.drop(columns=[\"fips\", \"year\"]).values)\n",
    "old_preds = county_to_chem.predict(industrial_profile_corr_df.drop(columns=[\"fips\", \"year\"]).values)\n",
    "industrial_profile_corr_df[PERTURB_COLS] += DELTA\n",
    "new_preds = county_to_chem.predict(industrial_profile_corr_df.drop(columns=[\"fips\", \"year\"]).values)\n",
    "new_preds - old_preds"
   ]
  },
  {
   "cell_type": "code",
   "execution_count": 0,
   "metadata": {
    "colab": {},
    "colab_type": "code",
    "id": "RMILiuwtGbeP"
   },
   "outputs": [],
   "source": []
  }
 ],
 "metadata": {
  "colab": {
   "collapsed_sections": [],
   "name": "Datathon",
   "provenance": [],
   "version": "0.3.2"
  },
  "kernelspec": {
   "display_name": "Python 3",
   "language": "python",
   "name": "python3"
  }
 },
 "nbformat": 4,
 "nbformat_minor": 1
}
